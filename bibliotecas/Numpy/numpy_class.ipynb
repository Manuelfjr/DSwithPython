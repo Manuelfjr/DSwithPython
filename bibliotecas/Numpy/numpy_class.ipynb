{
 "metadata": {
  "language_info": {
   "codemirror_mode": {
    "name": "ipython",
    "version": 3
   },
   "file_extension": ".py",
   "mimetype": "text/x-python",
   "name": "python",
   "nbconvert_exporter": "python",
   "pygments_lexer": "ipython3",
   "version": "3.7.4-final"
  },
  "orig_nbformat": 2,
  "kernelspec": {
   "name": "Python 3.7.4 64-bit ('base': conda)",
   "display_name": "Python 3.7.4 64-bit ('base': conda)",
   "metadata": {
    "interpreter": {
     "hash": "445d2d065c910e3bde76ed7fc0601f06629dc6b8c20ae114960fbebb4f78cd71"
    }
   }
  }
 },
 "nbformat": 4,
 "nbformat_minor": 2,
 "cells": [
  {
   "cell_type": "code",
   "execution_count": null,
   "metadata": {},
   "outputs": [],
   "source": [
    "# Caso não tenha instalado o numpy na sua máquina, basta rodar essa linha de codigo:\n",
    "#####################################################################################\n",
    "!pip install numpy\n",
    "############################## Caso ja tenha, pule ##################################"
   ]
  },
  {
   "cell_type": "code",
   "execution_count": 2,
   "metadata": {},
   "outputs": [],
   "source": [
    "# assim importamos uma biblioteca  \"import <nome da lib> as <\"apelido para ela\">\"\n",
    "import numpy as np"
   ]
  },
  {
   "source": [
    "# Uma pequena introdução ao _Numpy_\n",
    "\n",
    "O _Numpy_ é uma biblioteca voltada para computação de problemas matemáticos e cientificos, contando com o apoio de um classe especial: os Arrays.\n",
    "\n",
    "Alem disso, a biblioteca conta com o apoio para vetores, matrizes multidimensionais e funções matemáticas largamente utilizadas"
   ],
   "cell_type": "markdown",
   "metadata": {}
  },
  {
   "source": [
    "## Classe _array_\n",
    "\n",
    "Essa classe é a parte principal do _numpy_, onde representa uma lista homogênea, cujas dimensões são chamadas de _axis_"
   ],
   "cell_type": "markdown",
   "metadata": {}
  },
  {
   "source": [
    "## Criando _arrays_"
   ],
   "cell_type": "markdown",
   "metadata": {}
  },
  {
   "cell_type": "code",
   "execution_count": 3,
   "metadata": {},
   "outputs": [],
   "source": [
    "a = np.array([1, 2, 1])  # Uma dimensão, 3 elementos, tipo inteiro\n",
    "b = np.array([\n",
    "    [1., 0., 1.], \n",
    "    [0., 1., 2.]\n",
    "])  # Duas dimensões, a primeira com tamanho 2 e a segunda com tamanho 3, tipo ponto flutuante"
   ]
  },
  {
   "cell_type": "code",
   "execution_count": 5,
   "metadata": {},
   "outputs": [
    {
     "output_type": "stream",
     "name": "stdout",
     "text": [
      "3 int32\n(2, 3) 2 float64\n[[1. 0. 1.]\n [0. 1. 2.]]\n"
     ]
    }
   ],
   "source": [
    "print(len(a), a.dtype)\n",
    "\n",
    "# Verificando a dimensão do nosso array criado, o seu numero de linhas e o tipo dos valores dentro do array, respectivamente\n",
    "print(b.shape, len(b), b.dtype)\n",
    "print(b)"
   ]
  },
  {
   "cell_type": "code",
   "execution_count": 14,
   "metadata": {},
   "outputs": [
    {
     "output_type": "stream",
     "name": "stdout",
     "text": [
      "[[0. 0. 0. 0. 0.]\n [0. 0. 0. 0. 0.]\n [0. 0. 0. 0. 0.]\n [0. 0. 0. 0. 0.]\n [0. 0. 0. 0. 0.]]\n\n[[1. 1. 1. 1. 1.]\n [1. 1. 1. 1. 1.]\n [1. 1. 1. 1. 1.]]\n\n[[1 0 0 0 0]\n [0 1 0 0 0]\n [0 0 1 0 0]\n [0 0 0 1 0]\n [0 0 0 0 1]]\n"
     ]
    }
   ],
   "source": [
    "print(np.zeros((5, 5)))  # Criando uma matriz de zeros de dimensão (4,5)\n",
    "print()\n",
    "print(np.ones((3, 5))) # Criando uma matriz de \"1\" de dimensão (3,5)\n",
    "print()\n",
    "print(np.eye(5, dtype=np.int32))  # Criando uma matriz identidade (diagonal composta de 1) de ordem 5, sendo a diagonal tratada como numeros inteiros"
   ]
  },
  {
   "source": [
    "## A função _linspace_\n",
    "\n",
    "A função _linspace_ nos ajuda a gerar um intervalo de pontos, com o número que quisermos de pontos igualmente espaçados dentro desse intervalo."
   ],
   "cell_type": "markdown",
   "metadata": {}
  },
  {
   "cell_type": "code",
   "execution_count": 32,
   "metadata": {},
   "outputs": [
    {
     "output_type": "display_data",
     "data": {
      "text/plain": "<Figure size 432x288 with 1 Axes>",
      "image/png": "[encoded data removed]"
     },
     "metadata": {
      "needs_background": "light"
     }
    }
   ],
   "source": [
    "import matplotlib.pyplot as plt\n",
    "\n",
    "x = np.linspace(0, 2 * np.pi, 100)\n",
    "f = (1 - np.sin(x)**(7))**(1/2)\n",
    "\n",
    "plt.plot(x, f)\n",
    "plt.show()"
   ]
  },
  {
   "source": [
    "## Operações básicas"
   ],
   "cell_type": "markdown",
   "metadata": {}
  },
  {
   "cell_type": "code",
   "execution_count": 38,
   "metadata": {},
   "outputs": [
    {
     "output_type": "stream",
     "name": "stdout",
     "text": [
      "[10 20 30 40]\n[0 1 2 3]\n\n[10 19 28 37]\n\n[0 1 4 9]\n\n[ True  True False False]\n\n[10 20]\n\n[  0  20  60 120]\n"
     ]
    }
   ],
   "source": [
    "a = np.array([10, 20, 30, 40])\n",
    "print(a)\n",
    "b = np.arange(4)\n",
    "print(b)\n",
    "print()\n",
    "\n",
    "c = a - b # diferença de arrays\n",
    "print(c)\n",
    "print()\n",
    "\n",
    "print(b ** 2) # multiplicação por constante\n",
    "print()\n",
    "\n",
    "print(a < 25) # operações com booleanos\n",
    "print()\n",
    "\n",
    "print(a[a<25]) # indexação com booleanos\n",
    "print()\n",
    "\n",
    "print(a * b) # Multiplicação de arrays, dar-se por termo a termo"
   ]
  },
  {
   "source": [
    "Além disso, podemos definir operações com matrizes como multiplicação de matrizes, e temos 3 formas distintas de fazer essa operação no python"
   ],
   "cell_type": "markdown",
   "metadata": {}
  },
  {
   "cell_type": "code",
   "execution_count": 40,
   "metadata": {},
   "outputs": [
    {
     "output_type": "stream",
     "name": "stdout",
     "text": [
      "[[2 2]\n [0 2]]\n[[2 2]\n [0 2]]\n[[2 2]\n [0 2]]\n"
     ]
    }
   ],
   "source": [
    "A = np.array(\n",
    "    [\n",
    "        [1, 1],\n",
    "        [0, 1]\n",
    "    ]\n",
    ")\n",
    "\n",
    "B = np.array(\n",
    "    [\n",
    "        [2, 0],\n",
    "        [0, 2]\n",
    "    ]\n",
    ")\n",
    "\n",
    "print(A @ B) # Operador @\n",
    "print(np.dot(A, B)) # Utilizando hum metodo do numpy\n",
    "print(A.dot(B)) # Utilizando um atributo do array"
   ]
  },
  {
   "source": [
    "Podemos gerar valores aleatoriamente, informando a dimensão do nosso output"
   ],
   "cell_type": "markdown",
   "metadata": {}
  },
  {
   "cell_type": "code",
   "execution_count": 43,
   "metadata": {},
   "outputs": [
    {
     "output_type": "stream",
     "name": "stdout",
     "text": [
      "[[0.58232059 0.09295037 0.62826733]\n [0.49984734 0.5524515  0.49208166]\n [0.02300243 0.32490334 0.6988346 ]\n [0.2780288  0.96529864 0.23128369]\n [0.20407312 0.21037424 0.7318048 ]]\n"
     ]
    }
   ],
   "source": [
    "a = np.random.random((5, 3))\n",
    "print(a)"
   ]
  },
  {
   "source": [
    "Além disso, o nosso objeto do tipo array possui atributos importantes como calcular media, desvio padrão e soma dos valores"
   ],
   "cell_type": "markdown",
   "metadata": {}
  },
  {
   "cell_type": "code",
   "execution_count": 45,
   "metadata": {},
   "outputs": [
    {
     "output_type": "stream",
     "name": "stdout",
     "text": [
      "Soma: 6.51552244457221, Média: 0.4343681629714807, Desvio-padrão: 0.2566465657231473\n[1.58727227 2.14597809 2.78227208]\n[0.43451276 0.5147935  0.34891346 0.49153704 0.38208405]\n[[0.58232059 0.09295037 0.62826733]\n [1.08216793 0.64540187 1.12034899]\n [1.10517036 0.97030521 1.8191836 ]\n [1.38319915 1.93560385 2.05046728]\n [1.58727227 2.14597809 2.78227208]]\n"
     ]
    }
   ],
   "source": [
    "print(\n",
    "    'Soma: {}, Média: {}, Desvio-padrão: {}'.format(\n",
    "        a.sum(), a.mean(), a.std()\n",
    "    )\n",
    ")\n",
    "\n",
    "print(a.sum(axis=0)) # soma de cada coluna\n",
    "print(a.mean(axis=1))  # média de cada linha  \n",
    "print(a.cumsum(axis=0))  # soma acumulada de cada coluna"
   ]
  },
  {
   "source": [
    "## Indexando e iterando"
   ],
   "cell_type": "markdown",
   "metadata": {}
  },
  {
   "cell_type": "code",
   "execution_count": 46,
   "metadata": {},
   "outputs": [
    {
     "output_type": "stream",
     "name": "stdout",
     "text": [
      "[ 0  1  4  9 16 25 36 49]\n\n4\n\n[ 4  9 16]\n\n[-1000     1 -1000     9    16    25    36    49]\n\n[   49    36    25    16     9 -1000     1 -1000]\n\n-2000\n2\n-2000\n18\n32\n50\n72\n98\n"
     ]
    }
   ],
   "source": [
    "a = np.arange(8) ** 2\n",
    "print(a)\n",
    "print()\n",
    "\n",
    "print(a[2])\n",
    "print()\n",
    "\n",
    "print(a[2:5])\n",
    "print()\n",
    "\n",
    "a[:4:2] = -1000\n",
    "print(a)\n",
    "print()\n",
    "\n",
    "print(a[ : :-1])\n",
    "print()\n",
    "\n",
    "for i in a:\n",
    "    print(i * 2)"
   ]
  },
  {
   "source": [
    "Note que podemos \"fatiar\" nosso arrays da forma que acharmos melhor"
   ],
   "cell_type": "markdown",
   "metadata": {}
  },
  {
   "cell_type": "code",
   "execution_count": 47,
   "metadata": {},
   "outputs": [
    {
     "output_type": "stream",
     "name": "stdout",
     "text": [
      "[[0.30350047 0.38003445 0.09251981 0.93425538]\n [0.69026534 0.40992661 0.81408275 0.92563616]\n [0.76560205 0.02505337 0.11411902 0.45442867]\n [0.65488583 0.61989661 0.98991786 0.63783132]\n [0.52681153 0.85319804 0.43559277 0.09553838]]\n\n0.4544286713968695\n\n[0.38003445 0.40992661 0.02505337 0.61989661 0.85319804]\n\n[0.38003445 0.40992661 0.02505337 0.61989661]\n\n[[0.69026534 0.40992661 0.81408275 0.92563616]\n [0.76560205 0.02505337 0.11411902 0.45442867]]\n"
     ]
    }
   ],
   "source": [
    "b = np.random.random((5, 4))\n",
    "print(b)\n",
    "print()\n",
    "\n",
    "print(b[2, 3])  # Elemento na terceira linha e quarta coluna\n",
    "print()\n",
    "\n",
    "print(b[:, 1])  # A segunda coluna inteira\n",
    "print()\n",
    "\n",
    "print(b[:4, 1])  # Do primeiro ao quarto elemento da segunda coluna      \n",
    "print()\n",
    "\n",
    "print(b[1:3, :])  # Todas as colunas da segunda à terceira linha              "
   ]
  },
  {
   "source": [
    "Podemos também trabalhar com a multindexação, da seguinte forma"
   ],
   "cell_type": "markdown",
   "metadata": {}
  },
  {
   "cell_type": "code",
   "execution_count": 48,
   "metadata": {},
   "outputs": [
    {
     "output_type": "stream",
     "name": "stdout",
     "text": [
      "[[0.30350047 0.38003445 0.09251981 0.93425538]\n [0.69026534 0.40992661 0.81408275 0.92563616]\n [0.76560205 0.02505337 0.11411902 0.45442867]\n [0.65488583 0.61989661 0.98991786 0.63783132]\n [0.52681153 0.85319804 0.43559277 0.09553838]]\n\n[[0.69026534 0.40992661 0.81408275 0.92563616]\n [0.52681153 0.85319804 0.43559277 0.09553838]]\n\n[[0.38003445 0.09251981]\n [0.40992661 0.81408275]\n [0.02505337 0.11411902]\n [0.61989661 0.98991786]\n [0.85319804 0.43559277]]\n\n[0.40992661 0.43559277]\n\n[[0.40992661 0.81408275]\n [0.85319804 0.43559277]]\n\n[[0.40992661 0.81408275]\n [0.85319804 0.43559277]]\n\n[[0.30350047 0.38003445 0.09251981 0.93425538]\n [0.69026534 0.         0.         0.92563616]\n [0.76560205 0.02505337 0.11411902 0.45442867]\n [0.65488583 0.61989661 0.98991786 0.63783132]\n [0.52681153 0.         0.         0.09553838]]\n"
     ]
    }
   ],
   "source": [
    "print(b)\n",
    "print()\n",
    "\n",
    "print(b[[1, 4]])  # Segunda e quinta linhas da matriz b, equivale a b[[1, 4], :]\n",
    "print()\n",
    "\n",
    "print(b[:, [1, 2]])  # Segunda e terceira colunas da matriz b\n",
    "print()\n",
    "\n",
    "print(b[[1, 4], [1, 2]])  # Indexação pareada, equivale a [b[1,1], b[4, 2]]\n",
    "print()\n",
    "\n",
    "i = [\n",
    "    [1, 1],\n",
    "    [4, 4]\n",
    "]\n",
    "j = [\n",
    "    [1, 2],\n",
    "    [1, 2]\n",
    "]\n",
    "\n",
    "print(b[i, j])  # Indexação pareada, segunda e terceira colunas da segunda e quinta linhas\n",
    "print()\n",
    "\n",
    "print(b[\n",
    "    [[1], [4]],  # Equivale a b[i, j], note que o array\n",
    "    [1, 2]       # de índices do primeiro eixo é bidimensional\n",
    "])\n",
    "print()\n",
    "\n",
    "b[i, j] = 0  # As posições indexadas podem receber valores\n",
    "print(b)"
   ]
  },
  {
   "source": [
    "## Redimensionando _arrays_\n",
    "\n",
    "Outra coisa interessante que temos no numpy, é a facilidade de redimensionamento de arrays multidimensional."
   ],
   "cell_type": "markdown",
   "metadata": {}
  },
  {
   "cell_type": "code",
   "execution_count": 54,
   "metadata": {},
   "outputs": [
    {
     "output_type": "stream",
     "name": "stdout",
     "text": [
      "[ 0  1  2  3  4  5  6  7  8  9 10 11]\n(12,)\n"
     ]
    }
   ],
   "source": [
    "a = np.arange(12)\n",
    "print(a)\n",
    "print(a.shape)"
   ]
  },
  {
   "cell_type": "code",
   "execution_count": 55,
   "metadata": {},
   "outputs": [
    {
     "output_type": "stream",
     "name": "stdout",
     "text": [
      "[[ 0  1  2]\n [ 3  4  5]\n [ 6  7  8]\n [ 9 10 11]]\n\n[ 0  1  2  3  4  5  6  7  8  9 10 11]\n\n[[ 0  3  6  9]\n [ 1  4  7 10]\n [ 2  5  8 11]]\n\n"
     ]
    }
   ],
   "source": [
    "c = a.reshape(4, 3)\n",
    "print(c)\n",
    "print()\n",
    "\n",
    "print(c.ravel())  # retorna o array \"achatado\" \n",
    "print()\n",
    "\n",
    "print(c.T)  # retorna o array transposto\n",
    "print()"
   ]
  },
  {
   "source": [
    "Fato interessante ao usarmos o reshape, é que caso uma das dimensões seja informado -1, a matriz sera transformada com o numero de dimensão diferente de -1 que voce informou, e o que voce informou -1, sera preenchido da forma necessaria. Digamos  que queremos que a matriz A tenha 2 linhas, e o numero necessario de colunas, fazemos da seguinte forma:"
   ],
   "cell_type": "markdown",
   "metadata": {}
  },
  {
   "cell_type": "code",
   "execution_count": 56,
   "metadata": {},
   "outputs": [
    {
     "output_type": "execute_result",
     "data": {
      "text/plain": [
       "array([[ 0,  1,  2,  3,  4,  5],\n",
       "       [ 6,  7,  8,  9, 10, 11]])"
      ]
     },
     "metadata": {},
     "execution_count": 56
    }
   ],
   "source": [
    "a.reshape(2, -1)"
   ]
  },
  {
   "source": [
    "## Concatenando _arrays_\n",
    "\n",
    "Concatenar arrays torna-se simples utilizando o numpy, utilizando os _vstack_ (concatenação vertical) e _hstack_ (concatenação horizontal)."
   ],
   "cell_type": "markdown",
   "metadata": {}
  },
  {
   "cell_type": "code",
   "execution_count": 57,
   "metadata": {},
   "outputs": [
    {
     "output_type": "stream",
     "name": "stdout",
     "text": [
      "[[0.         1.        ]\n [2.         3.        ]\n [4.         5.        ]\n [0.68839695 0.51750144]\n [0.95686053 0.4500876 ]\n [0.35140156 0.16549771]]\n\n[[0.         1.         0.68839695 0.51750144]\n [2.         3.         0.95686053 0.4500876 ]\n [4.         5.         0.35140156 0.16549771]]\n"
     ]
    }
   ],
   "source": [
    "a = np.arange(6).reshape(3, 2)\n",
    "b = np.random.random((3, 2))\n",
    "\n",
    "print(np.vstack((a, b)))\n",
    "print()\n",
    "\n",
    "print(np.hstack((a, b)))"
   ]
  },
  {
   "source": [
    "# Aplicações da biblioteca"
   ],
   "cell_type": "markdown",
   "metadata": {}
  },
  {
   "source": [
    "## Algebra linear\n",
    "\n",
    "Com todos os metodos vistos antes, e outros que não foram comentados, a biblioteca numpy é largamente utilizada para resolução de problemas de algebra linear, em especial com problemas envolvendo matrizes. [Link](https://numpy.org/doc/stable/index.html) para leitura da biblioteca por completo"
   ],
   "cell_type": "markdown",
   "metadata": {}
  }
 ]
}