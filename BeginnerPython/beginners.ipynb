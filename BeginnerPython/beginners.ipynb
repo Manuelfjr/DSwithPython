{
 "metadata": {
  "language_info": {
   "codemirror_mode": {
    "name": "ipython",
    "version": 3
   },
   "file_extension": ".py",
   "mimetype": "text/x-python",
   "name": "python",
   "nbconvert_exporter": "python",
   "pygments_lexer": "ipython3",
   "version": "3.7.4-final"
  },
  "orig_nbformat": 2,
  "kernelspec": {
   "name": "python3",
   "display_name": "Python 3"
  }
 },
 "nbformat": 4,
 "nbformat_minor": 2,
 "cells": [
  {
   "cell_type": "markdown",
   "metadata": {},
   "source": [
    "# Python para leigos\n",
    "\n",
    "Vamos aprender um pouco sobre python ? ok, se você está aqui, então a resposta para essa pergunta é óbvia, então \"Let's start\"."
   ]
  },
  {
   "cell_type": "markdown",
   "metadata": {},
   "source": [
    "Neste notebook, vocês poderão aprender alguns conceitos importantes sobre:\n",
    "\n",
    "- Tipos de dados do python:\n",
    "    - Operações númericas utilizando o python;\n",
    "    - Strings e uso do print();\n",
    "    - Listas;\n",
    "    - Dicionarios;\n",
    "    - Valores lógicos (Booleano);\n",
    "    - Tuplas.\n",
    "- Operadores Lógicos:\n",
    "    - Maior que (>);\n",
    "    - Menor que (<);\n",
    "    - Igualdade (==);\n",
    "    - Diferente (!=);\n",
    "    - And (and);\n",
    "    - Or (or).\n",
    "- Estruturas condicionais:\n",
    "    - if/else;\n",
    "    - elif.\n",
    "- Estruturas de Repetição:\n",
    "    - uso do range();\n",
    "    - for;\n",
    "    - while.\n",
    "- Métodos;\n",
    "- Uso do operador lambda.\n"
   ]
  },
  {
   "cell_type": "markdown",
   "metadata": {},
   "source": [
    "# Typos de dados do Python"
   ]
  },
  {
   "cell_type": "markdown",
   "metadata": {},
   "source": [
    "## Operações númericas utilizando o python\n",
    "\n",
    "Como toda boa e velha linguagem, o python também te dá esse poder de realizar operações mátematicas, simples ou não. Alguns exemplos de operações seguem abaixo:"
   ]
  },
  {
   "cell_type": "code",
   "execution_count": 1,
   "metadata": {},
   "outputs": [
    {
     "output_type": "execute_result",
     "data": {
      "text/plain": "3"
     },
     "metadata": {},
     "execution_count": 1
    }
   ],
   "source": [
    "(1 + 1 + 3 - 2)"
   ]
  },
  {
   "cell_type": "code",
   "execution_count": 3,
   "metadata": {},
   "outputs": [
    {
     "output_type": "execute_result",
     "data": {
      "text/plain": "13"
     },
     "metadata": {},
     "execution_count": 3
    }
   ],
   "source": [
    "(7*2) - 1 "
   ]
  },
  {
   "cell_type": "code",
   "execution_count": 6,
   "metadata": {},
   "outputs": [
    {
     "output_type": "execute_result",
     "data": {
      "text/plain": "8.0"
     },
     "metadata": {},
     "execution_count": 6
    }
   ],
   "source": [
    "8/(3-2)"
   ]
  },
  {
   "cell_type": "code",
   "execution_count": 7,
   "metadata": {},
   "outputs": [
    {
     "output_type": "execute_result",
     "data": {
      "text/plain": "0.6666666666666665"
     },
     "metadata": {},
     "execution_count": 7
    }
   ],
   "source": [
    "8/3 - 2 # Perceba que é extremamente importante saber usar os parêntes, se nao informamos os parentes, o retorno é 0.66666666 aproximadamente"
   ]
  },
  {
   "cell_type": "markdown",
   "metadata": {},
   "source": [
    "## Strings e print()\n",
    "\n",
    "Sim, como quase toda linguagem também, o python permite o uso de strings, que podem ser números, palavras, letras, oque você quiser, contanto que informamos eles dentro de \" \", além disso, para se imprimir o retorno de algo no python, necessitamos o uso da função print() para imprimir o retorno de algo em tela. Alguns exemplos seguem abaixo abaixo:"
   ]
  },
  {
   "cell_type": "code",
   "execution_count": 8,
   "metadata": {},
   "outputs": [
    {
     "output_type": "execute_result",
     "data": {
      "text/plain": "'see you later, bye'"
     },
     "metadata": {},
     "execution_count": 8
    }
   ],
   "source": [
    "\"see you later, bye\" # aqui temos uma string, agora oque acha de armazenarmos essa string em um objeto para usarmos depois ?!"
   ]
  },
  {
   "cell_type": "code",
   "execution_count": 9,
   "metadata": {},
   "outputs": [],
   "source": [
    "phrase = \"see you later, bye\" # guardando a string em um objeto, logo logo vamos usar"
   ]
  },
  {
   "cell_type": "code",
   "execution_count": 15,
   "metadata": {},
   "outputs": [
    {
     "output_type": "execute_result",
     "data": {
      "text/plain": "'see you later, bye'"
     },
     "metadata": {},
     "execution_count": 15
    }
   ],
   "source": [
    "'see ' + 'you ' + 'later, ' + 'bye' # Perceba que podemos fazer a \"soma\" de strings"
   ]
  },
  {
   "cell_type": "markdown",
   "metadata": {},
   "source": [
    "Além disso, strings possuem atributos como o join (Juntar strings pelo oque você informar) e o split (Quebrar a string pelo caracter que você quiser). Olha um exemplo:"
   ]
  },
  {
   "cell_type": "code",
   "execution_count": 17,
   "metadata": {},
   "outputs": [],
   "source": [
    "lista = phrase.split(',') # perceba que estamos usando o objeto phrase agora, e estamos \"quebrando\" ele por virgula, e armazenando ele\n",
    "                          # em outro objeto. Vamos ver como ficou essa lista ?!"
   ]
  },
  {
   "cell_type": "code",
   "execution_count": 21,
   "metadata": {
    "tags": []
   },
   "outputs": [
    {
     "output_type": "stream",
     "name": "stdout",
     "text": "['see you later', ' bye']\n"
    }
   ],
   "source": [
    "print(lista) # Perceba que além de ver oque temos no objeto, usamos a função print(). Ela serve para imprimir oque você quer como output no seu               # código. Vamos juntar essa lista denovo ?!"
   ]
  },
  {
   "cell_type": "markdown",
   "metadata": {},
   "source": [
    "Fica como ajuda para sua curiosidade pesquisar sobre o .join(). Agora vamos falar de outra estrutura de dados do python muito importante e indispensavel, as **listas**"
   ]
  },
  {
   "cell_type": "markdown",
   "metadata": {},
   "source": [
    "## Listas\n",
    "\n",
    "Como vimos acima, o objeto lista virou algo estranho, quando \"splitamos\" o que tinha dentro dele por \",\", o nome desse retorno é \"list\", ou seja, uma lista como bem dito kkkk. Vamos confirmar isso utilizando a função type() do python."
   ]
  },
  {
   "cell_type": "code",
   "execution_count": 23,
   "metadata": {},
   "outputs": [
    {
     "output_type": "execute_result",
     "data": {
      "text/plain": "list"
     },
     "metadata": {},
     "execution_count": 23
    }
   ],
   "source": [
    "type(lista)"
   ]
  },
  {
   "cell_type": "markdown",
   "metadata": {},
   "source": [
    "Repare que é mesmo uma lista. No python, podemos criar listas vazias também, além de poder ter um mix de tipos de variaveis diferentes, como números e strings dentro dela. Olhe os exemplos abaixo:"
   ]
  },
  {
   "cell_type": "code",
   "execution_count": 32,
   "metadata": {},
   "outputs": [],
   "source": [
    "l = [] # Exemplo de lista vazia\n",
    "l.append('string ') # Utilizando o método .append() de uma lista, para adicionar uma string nela\n",
    "l.append(1) # Adicionando um número agora"
   ]
  },
  {
   "cell_type": "code",
   "execution_count": 33,
   "metadata": {
    "tags": []
   },
   "outputs": [
    {
     "output_type": "stream",
     "name": "stdout",
     "text": "['string ', 1]\n"
    }
   ],
   "source": [
    "print(l) # Olhe o retorno "
   ]
  },
  {
   "cell_type": "code",
   "execution_count": 35,
   "metadata": {
    "tags": []
   },
   "outputs": [
    {
     "output_type": "stream",
     "name": "stdout",
     "text": "['string', 1, 2]\n"
    }
   ],
   "source": [
    "# Também podemos simplesmente adicionar algo em uma lista de forma comum, da seguinte forma\n",
    "\n",
    "l = ['string', 1, 2]\n",
    "print(l)"
   ]
  }
 ]
}