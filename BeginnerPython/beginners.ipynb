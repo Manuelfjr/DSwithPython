{
 "metadata": {
  "language_info": {
   "codemirror_mode": {
    "name": "ipython",
    "version": 3
   },
   "file_extension": ".py",
   "mimetype": "text/x-python",
   "name": "python",
   "nbconvert_exporter": "python",
   "pygments_lexer": "ipython3",
   "version": "3.7.4-final"
  },
  "orig_nbformat": 2,
  "kernelspec": {
   "name": "python3",
   "display_name": "Python 3"
  }
 },
 "nbformat": 4,
 "nbformat_minor": 2,
 "cells": [
  {
   "cell_type": "markdown",
   "metadata": {},
   "source": [
    "# Python para leigos\n",
    "\n",
    "Vamos aprender um pouco sobre python ? ok, se você está aqui, então a resposta para essa pergunta é óbvia, então \"Let's start\"."
   ]
  },
  {
   "cell_type": "markdown",
   "metadata": {},
   "source": [
    "Neste notebook, vocês poderão aprender alguns conceitos importantes sobre:\n",
    "\n",
    "- Tipos de dados do python:\n",
    "    - Operações númericas utilizando o python;\n",
    "    - Strings e uso do print();\n",
    "    - Listas;\n",
    "    - Dicionarios;\n",
    "    - Valores lógicos (Booleano);\n",
    "    - Tuplas.\n",
    "- Operadores Lógicos:\n",
    "    - Maior que (>);\n",
    "    - Menor que (<);\n",
    "    - Igualdade (==);\n",
    "    - Diferente (!=);\n",
    "    - And (and);\n",
    "    - Or (or).\n",
    "- Estruturas condicionais:\n",
    "    - if/else;\n",
    "    - elif.\n",
    "- Estruturas de Repetição:\n",
    "    - uso do range();\n",
    "    - for;\n",
    "    - while.\n",
    "- Métodos;\n",
    "- Uso do operador lambda.\n"
   ]
  },
  {
   "cell_type": "markdown",
   "metadata": {},
   "source": [
    "# Typos de dados do Python"
   ]
  },
  {
   "cell_type": "markdown",
   "metadata": {},
   "source": [
    "## Operações númericas utilizando o python\n",
    "\n",
    "Como toda boa e velha linguagem, o python também te dá esse poder de realizar operações mátematicas, simples ou não. Alguns exemplos de operações seguem abaixo:"
   ]
  },
  {
   "cell_type": "code",
   "execution_count": 1,
   "metadata": {},
   "outputs": [
    {
     "output_type": "execute_result",
     "data": {
      "text/plain": "3"
     },
     "metadata": {},
     "execution_count": 1
    }
   ],
   "source": [
    "(1 + 1 + 3 - 2)"
   ]
  },
  {
   "cell_type": "code",
   "execution_count": 3,
   "metadata": {},
   "outputs": [
    {
     "output_type": "execute_result",
     "data": {
      "text/plain": "13"
     },
     "metadata": {},
     "execution_count": 3
    }
   ],
   "source": [
    "(7*2) - 1 "
   ]
  },
  {
   "cell_type": "code",
   "execution_count": 6,
   "metadata": {},
   "outputs": [
    {
     "output_type": "execute_result",
     "data": {
      "text/plain": "8.0"
     },
     "metadata": {},
     "execution_count": 6
    }
   ],
   "source": [
    "8/(3-2)"
   ]
  },
  {
   "cell_type": "code",
   "execution_count": 7,
   "metadata": {},
   "outputs": [
    {
     "output_type": "execute_result",
     "data": {
      "text/plain": "0.6666666666666665"
     },
     "metadata": {},
     "execution_count": 7
    }
   ],
   "source": [
    "8/3 - 2 # Perceba que é extremamente importante saber usar os parêntes, se nao informamos os parentes, o retorno é 0.66666666 aproximadamente"
   ]
  },
  {
   "cell_type": "markdown",
   "metadata": {},
   "source": [
    "## Strings e print()\n",
    "\n",
    "Sim, como quase toda linguagem também, o python permite o uso de strings, que podem ser números, palavras, letras, oque você quiser, contanto que informamos eles dentro de \" \", além disso, para se imprimir o retorno de algo no python, necessitamos o uso da função print() para imprimir o retorno de algo em tela. Alguns exemplos seguem abaixo abaixo:"
   ]
  },
  {
   "cell_type": "code",
   "execution_count": 8,
   "metadata": {},
   "outputs": [
    {
     "output_type": "execute_result",
     "data": {
      "text/plain": "'see you later, bye'"
     },
     "metadata": {},
     "execution_count": 8
    }
   ],
   "source": [
    "\"see you later, bye\" # aqui temos uma string, agora oque acha de armazenarmos essa string em um objeto para usarmos depois ?!"
   ]
  },
  {
   "cell_type": "code",
   "execution_count": 9,
   "metadata": {},
   "outputs": [],
   "source": [
    "phrase = \"see you later, bye\" # guardando a string em um objeto, logo logo vamos usar"
   ]
  },
  {
   "cell_type": "code",
   "execution_count": 15,
   "metadata": {},
   "outputs": [
    {
     "output_type": "execute_result",
     "data": {
      "text/plain": "'see you later, bye'"
     },
     "metadata": {},
     "execution_count": 15
    }
   ],
   "source": [
    "'see ' + 'you ' + 'later, ' + 'bye' # Perceba que podemos fazer a \"soma\" de strings"
   ]
  },
  {
   "cell_type": "markdown",
   "metadata": {},
   "source": [
    "Além disso, strings possuem atributos como o join (Juntar strings pelo oque você informar) e o split (Quebrar a string pelo caracter que você quiser). Olha um exemplo:"
   ]
  },
  {
   "cell_type": "code",
   "execution_count": 17,
   "metadata": {},
   "outputs": [],
   "source": [
    "lista = phrase.split(',') # perceba que estamos usando o objeto phrase agora, e estamos \"quebrando\" ele por virgula, e armazenando ele\n",
    "                          # em outro objeto. Vamos ver como ficou essa lista ?!"
   ]
  },
  {
   "cell_type": "code",
   "execution_count": 21,
   "metadata": {
    "tags": []
   },
   "outputs": [
    {
     "output_type": "stream",
     "name": "stdout",
     "text": "['see you later', ' bye']\n"
    }
   ],
   "source": [
    "print(lista) # Perceba que além de ver oque temos no objeto, usamos a função print(). Ela serve para imprimir oque você quer como output no seu               # código. Vamos juntar essa lista denovo ?!"
   ]
  },
  {
   "cell_type": "markdown",
   "metadata": {},
   "source": [
    "Fica como ajuda para sua curiosidade pesquisar sobre o .join(). Agora vamos falar de outra estrutura de dados do python muito importante e indispensavel, as **listas**"
   ]
  },
  {
   "cell_type": "markdown",
   "metadata": {},
   "source": [
    "## Listas\n",
    "\n",
    "Como vimos acima, o objeto lista virou algo estranho, quando \"splitamos\" o que tinha dentro dele por \",\", o nome desse retorno é \"list\", ou seja, uma lista como bem dito kkkk. Vamos confirmar isso utilizando a função type() do python."
   ]
  },
  {
   "cell_type": "code",
   "execution_count": 23,
   "metadata": {},
   "outputs": [
    {
     "output_type": "execute_result",
     "data": {
      "text/plain": "list"
     },
     "metadata": {},
     "execution_count": 23
    }
   ],
   "source": [
    "type(lista)"
   ]
  },
  {
   "cell_type": "markdown",
   "metadata": {},
   "source": [
    "Repare que é mesmo uma lista. No python, podemos criar listas vazias também, além de poder ter um mix de tipos de variaveis diferentes, como números e strings dentro dela. Olhe os exemplos abaixo:"
   ]
  },
  {
   "cell_type": "code",
   "execution_count": 32,
   "metadata": {},
   "outputs": [],
   "source": [
    "l = [] # Exemplo de lista vazia\n",
    "l.append('string ') # Utilizando o método .append() de uma lista, para adicionar uma string nela\n",
    "l.append(1) # Adicionando um número agora"
   ]
  },
  {
   "cell_type": "code",
   "execution_count": 33,
   "metadata": {
    "tags": []
   },
   "outputs": [
    {
     "output_type": "stream",
     "name": "stdout",
     "text": "['string ', 1]\n"
    }
   ],
   "source": [
    "print(l) # Olhe o retorno "
   ]
  },
  {
   "cell_type": "code",
   "execution_count": 36,
   "metadata": {
    "tags": []
   },
   "outputs": [
    {
     "output_type": "stream",
     "name": "stdout",
     "text": "['string', 1, 2]\n"
    }
   ],
   "source": [
    "# Também podemos simplesmente adicionar algo em uma lista de forma comum, da seguinte forma\n",
    "\n",
    "l = ['string', 1, 2]\n",
    "print(l)"
   ]
  },
  {
   "cell_type": "markdown",
   "metadata": {},
   "source": [
    "## Dicionarios\n",
    "\n",
    "Agora vamos pra algo \"proprio\" do python, os dicionarios. Os dicionarios é uma forma prática de estruturar os dados por \"keys\", dependendo da situação, ele torna-se muito prático. Olhe alguns exemplos:"
   ]
  },
  {
   "cell_type": "code",
   "execution_count": 39,
   "metadata": {
    "tags": []
   },
   "outputs": [
    {
     "output_type": "stream",
     "name": "stdout",
     "text": "{'chave_1': [1, 'string_2', 3], 'chave_2': ['string_1', 2, 'string_3']}\n"
    }
   ],
   "source": [
    "# Inicializamos um dicionario com {}\n",
    "dic = {\n",
    "    'chave_1': [1,'string_2',3],\n",
    "    'chave_2': ['string_1',2,'string_3']\n",
    "    }\n",
    "# Um exemplo mixelando tipos de estruturas\n",
    "# Vamos ver como ele fica estruturado\n",
    "print(dic)"
   ]
  },
  {
   "cell_type": "code",
   "execution_count": 49,
   "metadata": {},
   "outputs": [
    {
     "output_type": "execute_result",
     "data": {
      "text/plain": "([1, 'string_2', 3], ['string_1', 2, 'string_3'])"
     },
     "metadata": {},
     "execution_count": 49
    }
   ],
   "source": [
    "# Podemos acessar uma chave de um dicionario da seguinte forma:\n",
    "dic['chave_1'], dic['chave_2'] # Repare que escrevi tudo em uma única linha, separando unicamente por \" , \". O resultado disso foi uma tupla\n",
    "                               # com as chaves que eu queria. Logo mais falarei sobre tupla."
   ]
  },
  {
   "cell_type": "markdown",
   "metadata": {},
   "source": [
    "## Valores Lógicos (Booleanos)\n",
    "\n",
    "Valores Lógicos, os famosos Booleanos de toda linguagem. É um tipo de dados que representa True ou False, 1 ou 0, Verdadeiro ou Falso."
   ]
  },
  {
   "cell_type": "code",
   "execution_count": 64,
   "metadata": {},
   "outputs": [
    {
     "output_type": "execute_result",
     "data": {
      "text/plain": "(True, False)"
     },
     "metadata": {},
     "execution_count": 64
    }
   ],
   "source": [
    "True, False"
   ]
  },
  {
   "cell_type": "code",
   "execution_count": 66,
   "metadata": {},
   "outputs": [
    {
     "output_type": "execute_result",
     "data": {
      "text/plain": "3"
     },
     "metadata": {},
     "execution_count": 66
    }
   ],
   "source": [
    "# Perceba que legal, como foi dito, True equivale a 1 e False equivale a 0, logo também podemos fazer operações utilizando-os\n",
    "True + True + 1"
   ]
  },
  {
   "cell_type": "code",
   "execution_count": 67,
   "metadata": {},
   "outputs": [
    {
     "output_type": "execute_result",
     "data": {
      "text/plain": "1"
     },
     "metadata": {},
     "execution_count": 67
    }
   ],
   "source": [
    "False + True"
   ]
  },
  {
   "cell_type": "markdown",
   "metadata": {},
   "source": [
    "## Tuplas\n",
    "\n",
    "Tuplas são basicamente uma lista imutavel, ela nao precisa ser montada so por duas entradas, pode ter n entradas, mas para ser tupla precisa ser iniciada por () ou forçar uma lista a ser tupla pela função tuple() do proprio python. Olhe um exemplo"
   ]
  },
  {
   "cell_type": "code",
   "execution_count": 56,
   "metadata": {
    "tags": []
   },
   "outputs": [
    {
     "output_type": "stream",
     "name": "stdout",
     "text": "(1, 'test_2', 3)\n"
    }
   ],
   "source": [
    "tupla = (1,'test_2', 3)\n",
    "print(tupla)"
   ]
  },
  {
   "cell_type": "markdown",
   "metadata": {},
   "source": [
    "# Operadores Logicos\n",
    "\n",
    "Operadores logicos são  os famosos maior que, menor que, maior ou igual, menor ou igual, igual, e diferente de toda linguagem. Olha uns exemplos em python:\n"
   ]
  },
  {
   "cell_type": "code",
   "execution_count": 60,
   "metadata": {},
   "outputs": [
    {
     "output_type": "execute_result",
     "data": {
      "text/plain": "False"
     },
     "metadata": {},
     "execution_count": 60
    }
   ],
   "source": [
    "0 < 3  # Zero é menor que Três, verdade, me retorna True\n",
    "0 > 3 # Zero é maior que Três, Falso, me retorna False \n",
    "3 == 3 # 3 é igual a 3, verdade, me retorna True\n",
    "3 != 3 # 3 é diferente de 3, falso, me retorna False\n",
    "\n",
    "#Fica para sua curiosidade ler sobre o \"and\" e o \"or\". Super simples, não se preocupe kkk."
   ]
  },
  {
   "cell_type": "markdown",
   "metadata": {},
   "source": [
    "# Estruturas Condicionais\n",
    "\n",
    "As estruturas que mais usamos no python são o if (famoso \"se\"), else (\"caso contrario\") e o elif, que é similar ao else, porém usamos quando queremos atribuir uma condição para o else."
   ]
  },
  {
   "cell_type": "code",
   "execution_count": 69,
   "metadata": {
    "tags": []
   },
   "outputs": [
    {
     "output_type": "stream",
     "name": "stdout",
     "text": "o valor de a é 1\n"
    }
   ],
   "source": [
    "a = 1\n",
    "if a == 1:\n",
    "    print(f'o valor de a é {a}')\n",
    "elif a == 2:\n",
    "    print('o valor de a é {}'.format(a))\n",
    "else:\n",
    "    print(f'o valor de a é {a}')\n",
    "\n",
    "# Perceba que estou usando  o .format() para informar algo dentro de uma string, e estou usando  de duas formas diferentes. As duas formas são válidas, não se preocupe. Teste trocando os valores de \"a\"."
   ]
  },
  {
   "cell_type": "markdown",
   "metadata": {},
   "source": [
    "# Estruturas de repetição\n",
    "\n",
    "As estruturas de repetições são bem comuns nas linguagens de programção, sendo as mais comuns \"for\" e o \"while\", que basicamente realizam um loop, que no caso do for é até atingir o fim das iterações ou até atingir um \"break\" e para o while, ate quando a condição informada não for mais verdadeira."
   ]
  },
  {
   "cell_type": "code",
   "execution_count": 71,
   "metadata": {
    "tags": []
   },
   "outputs": [
    {
     "output_type": "stream",
     "name": "stdout",
     "text": "0\n1\n2\n"
    }
   ],
   "source": [
    "# Vamos usar o range(), para fazer as interações do for\n",
    "\n",
    "for i in range(3):\n",
    "    print(i)\n",
    "# Perceba que ele começa de 0, e termina um número antes do informado no range, isso porque o range conta de 0, e vai ate o número de terminos informados dentro do range, no caso foi informado que queria que for repetisse 3 vezes, começando de 0, logo imprimiu em tela os valore 0, 1 e 2, respectivamente."
   ]
  },
  {
   "cell_type": "code",
   "execution_count": 3,
   "metadata": {
    "tags": []
   },
   "outputs": [
    {
     "output_type": "stream",
     "name": "stdout",
     "text": "0\n1\n2\n"
    }
   ],
   "source": [
    "a = 0\n",
    "while a != 3:\n",
    "    print(a)\n",
    "    a += 1 # soma a + 1, e armazena em a novamente a cada iteração"
   ]
  },
  {
   "cell_type": "markdown",
   "metadata": {},
   "source": [
    "# Métodos\n",
    "\n",
    "Métodos são muito parecidos com funções, porém a sua sintaxe difere das funções e são normalmente escritos dentro de uma classe para explicitar a relação entre classe e método. Olha um exemplo de Método, e sua sintaxe para crianção:"
   ]
  },
  {
   "cell_type": "code",
   "execution_count": 7,
   "metadata": {},
   "outputs": [
    {
     "output_type": "execute_result",
     "data": {
      "text/plain": "4"
     },
     "metadata": {},
     "execution_count": 7
    }
   ],
   "source": [
    "# Um método que apenas eleva x ao quadrado\n",
    "def x_quad(x):\n",
    "    quad = x**2\n",
    "    return quad\n",
    "\n",
    "x_quad(2) # Observe que temos 2 ao quadrado"
   ]
  },
  {
   "cell_type": "markdown",
   "metadata": {},
   "source": [
    "# O operador lambda\n",
    "\n",
    "O operador lambda é basicamente uma forma de encurtar um método. Sabemos que muitas vezes precisamos escrever uma equação, ou uma algum tipo de função para fazer algo, mas nao precisamos escrever tanto quanto em um método, para isso utilizamos o operador lambda. Abaixo segue um exemplo:"
   ]
  },
  {
   "cell_type": "code",
   "execution_count": 9,
   "metadata": {},
   "outputs": [
    {
     "output_type": "execute_result",
     "data": {
      "text/plain": "4"
     },
     "metadata": {},
     "execution_count": 9
    }
   ],
   "source": [
    "f = lambda x: x**2\n",
    "f(2) # Fizemos a mesma coisa do topico passado, porém utilizamos o operador lambda"
   ]
  },
  {
   "cell_type": "code",
   "execution_count": null,
   "metadata": {},
   "outputs": [],
   "source": []
  }
 ]
}